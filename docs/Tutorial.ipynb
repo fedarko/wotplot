{
 "cells": [
  {
   "cell_type": "code",
   "execution_count": 1,
   "id": "3803d7d1",
   "metadata": {},
   "outputs": [],
   "source": [
    "import wotplot\n",
    "from matplotlib import pyplot"
   ]
  },
  {
   "cell_type": "markdown",
   "id": "62009818",
   "metadata": {},
   "source": [
    "# 1. The simple example from the README"
   ]
  },
  {
   "cell_type": "markdown",
   "id": "e6f43764",
   "metadata": {},
   "source": [
    "## 1.1. Define a small dataset\n",
    "\n",
    "Adapted from Figure 6.20 in Chapter 6 of _Bioinformatics Algorithms_ (Compeau & Pevzner), edition 2."
   ]
  },
  {
   "cell_type": "code",
   "execution_count": 2,
   "id": "7ae7a74c",
   "metadata": {},
   "outputs": [],
   "source": [
    "s1 = \"AGCAGGAGATAAACCTGT\"\n",
    "s2 = \"AGCAGGTTATCTACCTGT\"\n",
    "k = 3"
   ]
  },
  {
   "cell_type": "markdown",
   "id": "8f9834a8",
   "metadata": {},
   "source": [
    "## 1.2. Create a dot plot matrix"
   ]
  },
  {
   "cell_type": "code",
   "execution_count": 3,
   "id": "f5c74061",
   "metadata": {
    "scrolled": true
   },
   "outputs": [],
   "source": [
    "m = wotplot.DotPlotMatrix(s1, s2, k)"
   ]
  },
  {
   "cell_type": "markdown",
   "id": "995b9451",
   "metadata": {},
   "source": [
    "## 1.3. Inspect the dot plot matrix"
   ]
  },
  {
   "cell_type": "code",
   "execution_count": 4,
   "id": "1d2bc430",
   "metadata": {},
   "outputs": [
    {
     "data": {
      "text/plain": [
       "wotplot._matrix.DotPlotMatrix"
      ]
     },
     "execution_count": 4,
     "metadata": {},
     "output_type": "execute_result"
    }
   ],
   "source": [
    "type(m)"
   ]
  },
  {
   "cell_type": "code",
   "execution_count": 5,
   "id": "b0c8dbf3",
   "metadata": {},
   "outputs": [
    {
     "data": {
      "text/plain": [
       "DotPlotMatrix(mat=<16x16 sparse matrix of type '<class 'numpy.int64'>'\n",
       "\twith 18 stored elements in COOrdinate format>, k=3, yorder=\"BT\", binary=True)"
      ]
     },
     "execution_count": 5,
     "metadata": {},
     "output_type": "execute_result"
    }
   ],
   "source": [
    "m"
   ]
  },
  {
   "cell_type": "code",
   "execution_count": 6,
   "id": "a0d1750b",
   "metadata": {
    "scrolled": true
   },
   "outputs": [
    {
     "name": "stdout",
     "output_type": "stream",
     "text": [
      "DotPlotMatrix(k = 3, binary, bottom → top): 16 x 16\n"
     ]
    }
   ],
   "source": [
    "print(str(m))"
   ]
  },
  {
   "cell_type": "markdown",
   "id": "29fdad46",
   "metadata": {},
   "source": [
    "The `DotPlotMatrix` object we just created, `m`, contains some extra information about the way it was created (e.g. the value of `k` we used). But the most interesting part of it is the actual matrix describing the dot plot! This matrix is stored in the `mat` attribute."
   ]
  },
  {
   "cell_type": "code",
   "execution_count": 7,
   "id": "9379267f",
   "metadata": {},
   "outputs": [
    {
     "data": {
      "text/plain": [
       "<16x16 sparse matrix of type '<class 'numpy.int64'>'\n",
       "\twith 18 stored elements in COOrdinate format>"
      ]
     },
     "execution_count": 7,
     "metadata": {},
     "output_type": "execute_result"
    }
   ],
   "source": [
    "m.mat"
   ]
  },
  {
   "cell_type": "markdown",
   "id": "a91d9ecd",
   "metadata": {},
   "source": [
    "### 1.3.1. Why is this matrix 16x16? Shouldn't it be 18x18?\n",
    "\n",
    "You might have noticed that `s1` and `s2` are 18 nucleotides long. Why, then, does `m.mat` only have 16 rows and 16 columns?\n",
    "\n",
    "The reason for this is that, in an arbitrary string $s$, the number of $k$-mers is $|s| - k + 1$. For `s1` and `s2`, $|s| - k + 1 = 18 - 3 + 1 = 16$."
   ]
  },
  {
   "cell_type": "markdown",
   "id": "ff4026da",
   "metadata": {},
   "source": [
    "### 1.3.2. What's the deal with sparse matrices?\n",
    "\n",
    "Most dot plot matrices are _sparse_: that is, most of their entries are zeroes. We exploit this by storing `m.mat` in a [sparse matrix format](https://en.wikipedia.org/wiki/Sparse_matrix)—this drastically reduces the memory requirements when our input sequences are long (more than a few thousand nucleotides)."
   ]
  },
  {
   "cell_type": "markdown",
   "id": "9af18e2b",
   "metadata": {},
   "source": [
    "#### Sidenote about the matrix type\n",
    "Depending on the version of SciPy you have installed, `m.mat` will be of type [`scipy.sparse.coo_matrix`](https://docs.scipy.org/doc/scipy/reference/generated/scipy.sparse.coo_matrix.html) (SciPy < 1.8) or type [`scipy.sparse.coo_array`](https://docs.scipy.org/doc/scipy/reference/generated/scipy.sparse.coo_array.html) (SciPy ≥ 1.8). There shouldn't be much of a difference, at least for our use of these objects."
   ]
  },
  {
   "cell_type": "code",
   "execution_count": 8,
   "id": "6c75fa5f",
   "metadata": {},
   "outputs": [
    {
     "name": "stdout",
     "output_type": "stream",
     "text": [
      "This notebook is using SciPy version 1.5.2.\n"
     ]
    }
   ],
   "source": [
    "import scipy\n",
    "print(f\"This notebook is using SciPy version {scipy.__version__}.\")"
   ]
  },
  {
   "cell_type": "code",
   "execution_count": 9,
   "id": "f29e862a",
   "metadata": {
    "scrolled": true
   },
   "outputs": [
    {
     "data": {
      "text/plain": [
       "scipy.sparse.coo.coo_matrix"
      ]
     },
     "execution_count": 9,
     "metadata": {},
     "output_type": "execute_result"
    }
   ],
   "source": [
    "type(m.mat)"
   ]
  },
  {
   "cell_type": "markdown",
   "id": "6053417a",
   "metadata": {},
   "source": [
    "It's possible to convert `m.mat` from this sparse format to an equivalent \"dense\" foramt; this can make the matrix easier to work with, although it might require a large amount of memory if your input sequences were long. (For relatively small sequences like `s1` and `s2`, though, we should be fine.)\n",
    "\n",
    "Here's an example of creating a dense version of `m.mat`:"
   ]
  },
  {
   "cell_type": "code",
   "execution_count": 10,
   "id": "b9e3031e",
   "metadata": {
    "scrolled": true
   },
   "outputs": [
    {
     "data": {
      "text/plain": [
       "array([[0, 0, 0, 0, 0, 0, 0, 0, 0, 0, 0, 0, 0, 0, 0, 1],\n",
       "       [0, 0, 1, 0, 0, 0, 0, 0, 0, 0, 0, 0, 0, 0, 1, 0],\n",
       "       [0, 0, 0, 1, 0, 0, 0, 0, 0, 0, 0, 0, 0, 1, 0, 0],\n",
       "       [0, 0, 0, 0, 0, 0, 0, 0, 0, 0, 0, 0, 1, 0, 0, 0],\n",
       "       [0, 0, 0, 0, 0, 0, 0, 0, 0, 0, 0, 0, 0, 0, 0, 0],\n",
       "       [0, 0, 0, 0, 0, 0, 0, 0, 0, 0, 0, 0, 0, 0, 0, 0],\n",
       "       [0, 0, 0, 0, 0, 0, 1, 0, 0, 0, 0, 0, 0, 0, 0, 0],\n",
       "       [0, 0, 0, 0, 0, 0, 0, 1, 0, 0, 0, 0, 0, 0, 0, 0],\n",
       "       [0, 0, 0, 0, 0, 0, 0, 0, 1, 0, 0, 0, 0, 0, 0, 0],\n",
       "       [0, 0, 0, 0, 0, 0, 0, 0, 0, 1, 0, 0, 0, 0, 0, 0],\n",
       "       [0, 0, 0, 0, 0, 0, 0, 0, 0, 0, 0, 1, 0, 0, 0, 0],\n",
       "       [0, 0, 0, 0, 0, 0, 0, 0, 0, 0, 0, 0, 1, 0, 0, 0],\n",
       "       [0, 0, 0, 1, 0, 0, 0, 0, 0, 0, 0, 0, 0, 1, 0, 0],\n",
       "       [0, 0, 1, 0, 0, 0, 0, 0, 0, 0, 0, 0, 0, 0, 1, 0],\n",
       "       [0, 1, 0, 0, 0, 0, 0, 0, 0, 0, 0, 0, 0, 0, 0, 0],\n",
       "       [1, 0, 0, 0, 0, 0, 0, 0, 0, 0, 0, 0, 0, 0, 0, 0]])"
      ]
     },
     "execution_count": 10,
     "metadata": {},
     "output_type": "execute_result"
    }
   ],
   "source": [
    "m.mat.toarray()"
   ]
  },
  {
   "cell_type": "markdown",
   "id": "7d808534",
   "metadata": {},
   "source": [
    "In the above matrix, `0` values represent cells where there aren't any forward or reverse-complement $k$-mer matches, and `1` values represent cells where there is at least one such match.\n",
    "\n",
    "For more details about these values, you can run `help(wotplot.DotPlotMatrix)`."
   ]
  },
  {
   "cell_type": "markdown",
   "id": "d3a8aa09",
   "metadata": {},
   "source": [
    "## 1.4. Visualize the dot plot matrix\n",
    "\n",
    "### 1.4.1. Available visualization functions\n",
    "Currently, we provide two functions for visualizing these matrices: `viz_imshow()` and `viz_spy()`. Both of these are essentially wrappers for matplotlib's [`imshow()`](https://matplotlib.org/stable/api/_as_gen/matplotlib.axes.Axes.imshow.html) and [`spy()`](https://matplotlib.org/stable/api/_as_gen/matplotlib.axes.Axes.spy.html) functions; you can even provide additional keyword arguments to `viz_imshow()` and `viz_spy()` which will be passed directly to `imshow()` / `spy()`. \n",
    "\n",
    "A brief description of the differences between these functions:\n",
    "\n",
    "- `imshow()` produces visually appealing plots (cells are scaled perfectly within the plot; supports multiple colors, which helps us visualize not-binary matrices). However, it doesn't support sparse matrices. So, `viz_imshow()` converts the sparse matrix to a dense format -- this can require a lot of memory if your input sequences were long.\n",
    "\n",
    "\n",
    "- `spy()` produces plots that are a bit less pretty than `imshow()`'s (at least at first -- you can still make them look nice with some tweaking, e.g. adjusting the `markersize` parameter to scale match cells' sizes up/down), but it works with sparse matrices and is thus much more memory-efficient.\n",
    "\n",
    "So, I recommend using `viz_imshow()` for short sequences (e.g. < 500 nt each) and `viz_spy()` for longer sequences.\n",
    "\n",
    "### 1.4.2. `viz_imshow()`\n",
    "\n",
    "First, let's use `viz_imshow()` -- our sequences here are very short, so the total cost of storing a dense 16 x 16 = 256-cell matrix in memory is small."
   ]
  },
  {
   "cell_type": "code",
   "execution_count": 11,
   "id": "75193267",
   "metadata": {},
   "outputs": [
    {
     "data": {
      "image/png": "[encoded data removed]",
      "text/plain": [
       "<Figure size 432x288 with 1 Axes>"
      ]
     },
     "metadata": {},
     "output_type": "display_data"
    }
   ],
   "source": [
    "fig, ax = wotplot.viz_imshow(m)\n",
    "# Save the visualization to a file\n",
    "fig.savefig(\"example_dotplot.png\", bbox_inches=\"tight\")"
   ]
  },
  {
   "cell_type": "markdown",
   "id": "2de24df8",
   "metadata": {},
   "source": [
    "### 1.4.3. For comparison's sake: `viz_spy()`\n",
    "\n",
    "The default `markersize` used by `viz_spy()` is `0.5`. I set this as the default because it's useful for plots of very long sequences; however, it's less useful for plots of tiny sequences like this one."
   ]
  },
  {
   "cell_type": "code",
   "execution_count": 12,
   "id": "03a063eb",
   "metadata": {},
   "outputs": [
    {
     "data": {
      "text/plain": [
       "(<Figure size 432x288 with 1 Axes>,\n",
       " <AxesSubplot:xlabel='$s_1$ (18 nt) →', ylabel='$s_2$ (18 nt) →'>)"
      ]
     },
     "execution_count": 12,
     "metadata": {},
     "output_type": "execute_result"
    },
    {
     "data": {
      "image/png": "[encoded data removed]",
      "text/plain": [
       "<Figure size 432x288 with 1 Axes>"
      ]
     },
     "metadata": {},
     "output_type": "display_data"
    }
   ],
   "source": [
    "wotplot.viz_spy(m)"
   ]
  },
  {
   "cell_type": "markdown",
   "id": "607bb9fb",
   "metadata": {},
   "source": [
    "We can adjust the `markersize` when we call `viz_spy()`, which makes this visualization look essentially the same as what we'd get from `viz_imshow()`:"
   ]
  },
  {
   "cell_type": "code",
   "execution_count": 13,
   "id": "4343dbda",
   "metadata": {},
   "outputs": [
    {
     "data": {
      "text/plain": [
       "(<Figure size 432x288 with 1 Axes>,\n",
       " <AxesSubplot:xlabel='$s_1$ (18 nt) →', ylabel='$s_2$ (18 nt) →'>)"
      ]
     },
     "execution_count": 13,
     "metadata": {},
     "output_type": "execute_result"
    },
    {
     "data": {
      "image/png": "[encoded data removed]",
      "text/plain": [
       "<Figure size 432x288 with 1 Axes>"
      ]
     },
     "metadata": {},
     "output_type": "display_data"
    }
   ],
   "source": [
    "wotplot.viz_spy(m, markersize=13)"
   ]
  },
  {
   "cell_type": "markdown",
   "id": "9250173e",
   "metadata": {},
   "source": [
    "# 2. Visualizing not-binary matrices in color\n",
    "\n",
    "Since not-binary dot plot matrices distinguish between forward, reverse-complementary, and palindromic matches, we can color these matches differently in the visualization! `viz_imshow()` will automatically do this for you.\n",
    "\n",
    "## 2.1. The same dataset as above\n",
    "\n",
    "The default colormap used colors non-match cells white, forward match cells red, reverse-complementary match cells blue, and palindromic match cells purple. This is based on Figure 6.20 in Chapter 6 of _Bioinformatics Algorithms_ (Compeau & Pevzner), edition 2."
   ]
  },
  {
   "cell_type": "code",
   "execution_count": 14,
   "id": "d68e9978",
   "metadata": {},
   "outputs": [
    {
     "data": {
      "text/plain": [
       "(<Figure size 432x288 with 1 Axes>,\n",
       " <AxesSubplot:xlabel='$s_1$ (18 nt) →', ylabel='$s_2$ (18 nt) →'>)"
      ]
     },
     "execution_count": 14,
     "metadata": {},
     "output_type": "execute_result"
    },
    {
     "data": {
      "image/png": "[encoded data removed]",
      "text/plain": [
       "<Figure size 432x288 with 1 Axes>"
      ]
     },
     "metadata": {},
     "output_type": "display_data"
    }
   ],
   "source": [
    "b = wotplot.DotPlotMatrix(s1, s2, k, binary=False)\n",
    "wotplot.viz_imshow(b)"
   ]
  },
  {
   "cell_type": "markdown",
   "id": "0d122010",
   "metadata": {},
   "source": [
    "Note that `viz_spy()` can only use one color for all match cells (by default this is set to black), so visualizing a not-binary matrix with `viz_spy()` doesn't look different from visualizing the equivalent binary matrix:"
   ]
  },
  {
   "cell_type": "code",
   "execution_count": 15,
   "id": "509036da",
   "metadata": {},
   "outputs": [
    {
     "data": {
      "text/plain": [
       "(<Figure size 432x288 with 1 Axes>,\n",
       " <AxesSubplot:xlabel='$s_1$ (18 nt) →', ylabel='$s_2$ (18 nt) →'>)"
      ]
     },
     "execution_count": 15,
     "metadata": {},
     "output_type": "execute_result"
    },
    {
     "data": {
      "image/png": "[encoded data removed]",
      "text/plain": [
       "<Figure size 432x288 with 1 Axes>"
      ]
     },
     "metadata": {},
     "output_type": "display_data"
    }
   ],
   "source": [
    "wotplot.viz_spy(b, markersize=13)"
   ]
  },
  {
   "cell_type": "markdown",
   "id": "eb8152ae",
   "metadata": {},
   "source": [
    "## 2.2. Another dataset that includes palindromes"
   ]
  },
  {
   "cell_type": "code",
   "execution_count": 16,
   "id": "9269eabd",
   "metadata": {},
   "outputs": [
    {
     "data": {
      "text/plain": [
       "(<Figure size 432x288 with 1 Axes>,\n",
       " <AxesSubplot:xlabel='$s_1$ (21 nt) →', ylabel='$s_2$ (21 nt) →'>)"
      ]
     },
     "execution_count": 16,
     "metadata": {},
     "output_type": "execute_result"
    },
    {
     "data": {
      "image/png": "[encoded data removed]",
      "text/plain": [
       "<Figure size 432x288 with 1 Axes>"
      ]
     },
     "metadata": {},
     "output_type": "display_data"
    }
   ],
   "source": [
    "p = wotplot.DotPlotMatrix(\"AGCAGAAAGAGATAAACCTGT\", \"AGCAGAAAGAGATAAACCTGT\", 2, binary=False)\n",
    "wotplot.viz_imshow(p)"
   ]
  },
  {
   "cell_type": "markdown",
   "id": "d38b0ec1",
   "metadata": {},
   "source": [
    "## 2.3. Adjusting the colormap used\n",
    "\n",
    "We can adjust this with the `nbcmap` parameter of `viz_imshow()`, which is a `dict` mapping cell values (0, 1, -1, 2) to RGB triplet colors.\n",
    "\n",
    "Here, we can use `nbcmap` to create \"dark mode\" dot plots:"
   ]
  },
  {
   "cell_type": "code",
   "execution_count": 17,
   "id": "253a5fec",
   "metadata": {},
   "outputs": [
    {
     "data": {
      "text/plain": [
       "(<Figure size 432x288 with 1 Axes>,\n",
       " <AxesSubplot:xlabel='$s_1$ (21 nt) →', ylabel='$s_2$ (21 nt) →'>)"
      ]
     },
     "execution_count": 17,
     "metadata": {},
     "output_type": "execute_result"
    },
    {
     "data": {
      "image/png": "[encoded data removed]",
      "text/plain": [
       "<Figure size 432x288 with 1 Axes>"
      ]
     },
     "metadata": {},
     "output_type": "display_data"
    }
   ],
   "source": [
    "# it's gamer time\n",
    "dark_mode_cmap = {0: [0, 0, 0], 1: [255, 255, 255], -1: [150, 150, 150], 2: [255, 0, 255]}\n",
    "wotplot.viz_imshow(p, nbcmap=dark_mode_cmap)"
   ]
  },
  {
   "cell_type": "markdown",
   "id": "39af47f4",
   "metadata": {},
   "source": [
    "# 3. Tiling multiple dot plots\n",
    "\n",
    "One of the main reasons I wrote this library was so that I could create figures containing grids of many dot plots using matplotlib. wotplot makes this process fairly painless!\n",
    "\n",
    "Here's an example of creating a single figure containing two side-by-side dot plots. For our second dot plot we'll reuse the original dataset from above but, this time, set `yorder=\"TB\"` -- this will have the effect of \"flipping\" the y-axis so that the second sequence begins at the top and ends at the bottom of the plot. This is analogous to how [Gepard](https://academic.oup.com/bioinformatics/article/23/8/1026/198110)'s dot plots look."
   ]
  },
  {
   "cell_type": "code",
   "execution_count": 18,
   "id": "40a1ea34",
   "metadata": {},
   "outputs": [
    {
     "data": {
      "image/png": "[encoded data removed]",
      "text/plain": [
       "<Figure size 864x360 with 2 Axes>"
      ]
     },
     "metadata": {},
     "output_type": "display_data"
    }
   ],
   "source": [
    "# Second dot plot: same as the original, but different y-order\n",
    "m_flipped = wotplot.DotPlotMatrix(s1, s2, k, yorder=\"TB\")\n",
    "\n",
    "fig, (axLeft, axRight) = pyplot.subplots(1, 2)\n",
    "\n",
    "# Notice how we provide an argument to the ax parameters of these functions.\n",
    "# This way, we can create these Axes objects in advance (when we call\n",
    "# pyplot.subplots()).\n",
    "wotplot.viz_imshow(m, ax=axLeft)\n",
    "wotplot.viz_imshow(m_flipped, ax=axRight)\n",
    "\n",
    "axLeft.set_title('Bottom-to-top', fontsize=18)\n",
    "axRight.set_title('Top-to-bottom', fontsize=18)\n",
    "fig.set_size_inches(12, 5)"
   ]
  },
  {
   "cell_type": "markdown",
   "id": "a818cc1f",
   "metadata": {},
   "source": [
    "# 4. Passing arbitrary keyword arguments to `imshow()` / `spy()`\n",
    "\n",
    "These functions have a lot of options available (see the matplotlib docs for [`imshow()`](https://matplotlib.org/stable/api/_as_gen/matplotlib.axes.Axes.imshow.html) and [`spy()`](https://matplotlib.org/stable/api/_as_gen/matplotlib.axes.Axes.spy.html)), and we can make use of these options without too much effort:"
   ]
  },
  {
   "cell_type": "code",
   "execution_count": 19,
   "id": "c2f3bffd",
   "metadata": {},
   "outputs": [
    {
     "data": {
      "text/plain": [
       "(<Figure size 432x288 with 1 Axes>,\n",
       " <AxesSubplot:xlabel='$s_1$ (18 nt) →', ylabel='$s_2$ (18 nt) →'>)"
      ]
     },
     "execution_count": 19,
     "metadata": {},
     "output_type": "execute_result"
    },
    {
     "data": {
      "image/png": "[encoded data removed]",
      "text/plain": [
       "<Figure size 432x288 with 1 Axes>"
      ]
     },
     "metadata": {},
     "output_type": "display_data"
    }
   ],
   "source": [
    "# - Set cmap to \"viridis\" (by default, viz_imshow() sets cmap to \"gray_r\" for binary matrices, but we can\n",
    "#   override this here).\n",
    "# - Set aspect to \"auto\", which lets cells be non-square (their dimensions will adjust as we resize the plot).\n",
    "wotplot.viz_imshow(m, cmap=\"viridis\", aspect=\"auto\")"
   ]
  },
  {
   "cell_type": "code",
   "execution_count": 20,
   "id": "29603c25",
   "metadata": {},
   "outputs": [
    {
     "data": {
      "text/plain": [
       "(<Figure size 432x288 with 1 Axes>,\n",
       " <AxesSubplot:xlabel='$s_1$ (18 nt) →', ylabel='$s_2$ (18 nt) →'>)"
      ]
     },
     "execution_count": 20,
     "metadata": {},
     "output_type": "execute_result"
    },
    {
     "data": {
      "image/png": "[encoded data removed]",
      "text/plain": [
       "<Figure size 432x288 with 1 Axes>"
      ]
     },
     "metadata": {},
     "output_type": "display_data"
    }
   ],
   "source": [
    "# - Set marker to \"o\" (draw circles instead of squares for matching cells).\n",
    "# - Set alpha to 0.3 (add some transparency to the matching cells).\n",
    "wotplot.viz_spy(m, markersize=13, marker=\"o\", alpha=0.3)"
   ]
  }
 ],
 "metadata": {
  "kernelspec": {
   "display_name": "Python 3",
   "language": "python",
   "name": "python3"
  },
  "language_info": {
   "codemirror_mode": {
    "name": "ipython",
    "version": 3
   },
   "file_extension": ".py",
   "mimetype": "text/x-python",
   "name": "python",
   "nbconvert_exporter": "python",
   "pygments_lexer": "ipython3",
   "version": "3.6.13"
  }
 },
 "nbformat": 4,
 "nbformat_minor": 5
}
