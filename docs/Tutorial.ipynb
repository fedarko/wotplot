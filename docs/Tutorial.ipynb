{
 "cells": [
  {
   "cell_type": "code",
   "execution_count": 18,
   "id": "3803d7d1",
   "metadata": {},
   "outputs": [],
   "source": [
    "import os\n",
    "import wotplot\n",
    "from matplotlib import pyplot\n",
    "# the facecolor and transparent kargs force the saved figures to have a white background;\n",
    "# from https://stackoverflow.com/a/64585557\n",
    "savefig_kwargs = {\"bbox_inches\": \"tight\", \"facecolor\": \"white\", \"transparent\": False}"
   ]
  },
  {
   "cell_type": "markdown",
   "id": "62009818",
   "metadata": {},
   "source": [
    "# 1. A small example"
   ]
  },
  {
   "cell_type": "markdown",
   "id": "e6f43764",
   "metadata": {},
   "source": [
    "## 1.1. Define a small dataset\n",
    "\n",
    "Adapted from Figure 6.20 in Chapter 6 of _Bioinformatics Algorithms_ (Compeau & Pevzner), edition 2."
   ]
  },
  {
   "cell_type": "code",
   "execution_count": 19,
   "id": "7ae7a74c",
   "metadata": {},
   "outputs": [],
   "source": [
    "s1 = \"AGCAGGAGATAAACCTGT\"\n",
    "s2 = \"AGCAGGTTATCTACCTGT\"\n",
    "k = 3"
   ]
  },
  {
   "cell_type": "markdown",
   "id": "8f9834a8",
   "metadata": {},
   "source": [
    "## 1.2. Create a dot plot matrix"
   ]
  },
  {
   "cell_type": "code",
   "execution_count": 20,
   "id": "f5c74061",
   "metadata": {
    "scrolled": true
   },
   "outputs": [],
   "source": [
    "m = wotplot.DotPlotMatrix(s1, s2, k)"
   ]
  },
  {
   "cell_type": "markdown",
   "id": "995b9451",
   "metadata": {},
   "source": [
    "## 1.3. Inspect the dot plot matrix"
   ]
  },
  {
   "cell_type": "code",
   "execution_count": 21,
   "id": "1d2bc430",
   "metadata": {},
   "outputs": [
    {
     "data": {
      "text/plain": [
       "wotplot._matrix.DotPlotMatrix"
      ]
     },
     "execution_count": 21,
     "metadata": {},
     "output_type": "execute_result"
    }
   ],
   "source": [
    "type(m)"
   ]
  },
  {
   "cell_type": "code",
   "execution_count": 22,
   "id": "b0c8dbf3",
   "metadata": {},
   "outputs": [
    {
     "data": {
      "text/plain": [
       "DotPlotMatrix(mat=<16x16 sparse matrix of type '<class 'numpy.int64'>'\n",
       "\twith 18 stored elements in COOrdinate format>, k=3, yorder=\"BT\", binary=True)"
      ]
     },
     "execution_count": 22,
     "metadata": {},
     "output_type": "execute_result"
    }
   ],
   "source": [
    "m"
   ]
  },
  {
   "cell_type": "code",
   "execution_count": 23,
   "id": "a0d1750b",
   "metadata": {
    "scrolled": true
   },
   "outputs": [
    {
     "name": "stdout",
     "output_type": "stream",
     "text": [
      "DotPlotMatrix(k = 3, binary, bottom → top): 16 x 16\n"
     ]
    }
   ],
   "source": [
    "print(str(m))"
   ]
  },
  {
   "cell_type": "markdown",
   "id": "29fdad46",
   "metadata": {},
   "source": [
    "The `DotPlotMatrix` object we just created, `m`, contains some extra information about the way it was created (e.g. the value of `k` we used). But the most interesting part of it is the actual matrix describing the dot plot! This matrix is stored in the `mat` attribute."
   ]
  },
  {
   "cell_type": "code",
   "execution_count": 24,
   "id": "9379267f",
   "metadata": {},
   "outputs": [
    {
     "data": {
      "text/plain": [
       "<16x16 sparse matrix of type '<class 'numpy.int64'>'\n",
       "\twith 18 stored elements in COOrdinate format>"
      ]
     },
     "execution_count": 24,
     "metadata": {},
     "output_type": "execute_result"
    }
   ],
   "source": [
    "m.mat"
   ]
  },
  {
   "cell_type": "markdown",
   "id": "a91d9ecd",
   "metadata": {},
   "source": [
    "### 1.3.1. Why is this matrix 16x16? Shouldn't it be 18x18?\n",
    "\n",
    "You might have noticed that `s1` and `s2` are 18 nucleotides long. Why, then, does `m.mat` only have 16 rows and 16 columns?\n",
    "\n",
    "The reason for this is that the number of $k$-mers in an arbitrary string $s$ is slightly smaller than $|s|$: it's $|s| - k + 1$. For `s1` and `s2`, $|s| - k + 1 = 18 - 3 + 1 = 16$."
   ]
  },
  {
   "cell_type": "markdown",
   "id": "ff4026da",
   "metadata": {},
   "source": [
    "### 1.3.2. What's the deal with sparse matrices?\n",
    "\n",
    "Most dot plot matrices are _sparse_: that is, most of their entries are zeroes. We exploit this by storing `m.mat` in a [sparse matrix format](https://en.wikipedia.org/wiki/Sparse_matrix), which allows us to only bother storing the non-zero entries—this drastically reduces the memory requirements when our input sequences are long (more than a few thousand nucleotides)."
   ]
  },
  {
   "cell_type": "markdown",
   "id": "9af18e2b",
   "metadata": {},
   "source": [
    "#### Sidenote about the matrix type\n",
    "Depending on the version of SciPy you have installed, `m.mat` will be of type [`scipy.sparse.coo_matrix`](https://docs.scipy.org/doc/scipy/reference/generated/scipy.sparse.coo_matrix.html) (SciPy < 1.8) or type [`scipy.sparse.coo_array`](https://docs.scipy.org/doc/scipy/reference/generated/scipy.sparse.coo_array.html) (SciPy ≥ 1.8). There shouldn't be much of a difference, at least for our use of these objects."
   ]
  },
  {
   "cell_type": "code",
   "execution_count": 25,
   "id": "6c75fa5f",
   "metadata": {},
   "outputs": [
    {
     "name": "stdout",
     "output_type": "stream",
     "text": [
      "This notebook is using SciPy version 1.5.2.\n"
     ]
    }
   ],
   "source": [
    "import scipy\n",
    "print(f\"This notebook is using SciPy version {scipy.__version__}.\")"
   ]
  },
  {
   "cell_type": "code",
   "execution_count": 26,
   "id": "f29e862a",
   "metadata": {
    "scrolled": true
   },
   "outputs": [
    {
     "data": {
      "text/plain": [
       "scipy.sparse.coo.coo_matrix"
      ]
     },
     "execution_count": 26,
     "metadata": {},
     "output_type": "execute_result"
    }
   ],
   "source": [
    "type(m.mat)"
   ]
  },
  {
   "cell_type": "markdown",
   "id": "6053417a",
   "metadata": {},
   "source": [
    "It's possible to convert `m.mat` from this sparse format to an equivalent \"dense\" format; this can make the matrix easier to work with, although it might require a large amount of memory if your input sequences were long. (For relatively small sequences like `s1` and `s2`, though, we should be fine.)\n",
    "\n",
    "Here's an example of creating a dense version of `m.mat`:"
   ]
  },
  {
   "cell_type": "code",
   "execution_count": 27,
   "id": "b9e3031e",
   "metadata": {
    "scrolled": true
   },
   "outputs": [
    {
     "data": {
      "text/plain": [
       "array([[0, 0, 0, 0, 0, 0, 0, 0, 0, 0, 0, 0, 0, 0, 0, 1],\n",
       "       [0, 0, 1, 0, 0, 0, 0, 0, 0, 0, 0, 0, 0, 0, 1, 0],\n",
       "       [0, 0, 0, 1, 0, 0, 0, 0, 0, 0, 0, 0, 0, 1, 0, 0],\n",
       "       [0, 0, 0, 0, 0, 0, 0, 0, 0, 0, 0, 0, 1, 0, 0, 0],\n",
       "       [0, 0, 0, 0, 0, 0, 0, 0, 0, 0, 0, 0, 0, 0, 0, 0],\n",
       "       [0, 0, 0, 0, 0, 0, 0, 0, 0, 0, 0, 0, 0, 0, 0, 0],\n",
       "       [0, 0, 0, 0, 0, 0, 1, 0, 0, 0, 0, 0, 0, 0, 0, 0],\n",
       "       [0, 0, 0, 0, 0, 0, 0, 1, 0, 0, 0, 0, 0, 0, 0, 0],\n",
       "       [0, 0, 0, 0, 0, 0, 0, 0, 1, 0, 0, 0, 0, 0, 0, 0],\n",
       "       [0, 0, 0, 0, 0, 0, 0, 0, 0, 1, 0, 0, 0, 0, 0, 0],\n",
       "       [0, 0, 0, 0, 0, 0, 0, 0, 0, 0, 0, 1, 0, 0, 0, 0],\n",
       "       [0, 0, 0, 0, 0, 0, 0, 0, 0, 0, 0, 0, 1, 0, 0, 0],\n",
       "       [0, 0, 0, 1, 0, 0, 0, 0, 0, 0, 0, 0, 0, 1, 0, 0],\n",
       "       [0, 0, 1, 0, 0, 0, 0, 0, 0, 0, 0, 0, 0, 0, 1, 0],\n",
       "       [0, 1, 0, 0, 0, 0, 0, 0, 0, 0, 0, 0, 0, 0, 0, 0],\n",
       "       [1, 0, 0, 0, 0, 0, 0, 0, 0, 0, 0, 0, 0, 0, 0, 0]])"
      ]
     },
     "execution_count": 27,
     "metadata": {},
     "output_type": "execute_result"
    }
   ],
   "source": [
    "m.mat.toarray()"
   ]
  },
  {
   "cell_type": "markdown",
   "id": "7d808534",
   "metadata": {},
   "source": [
    "In the above matrix: `0` values represent cells where there aren't any forward or reverse-complement $k$-mer matches, and `1` values represent cells where there is at least one such match.\n",
    "\n",
    "For more details about these values, you can run `help(wotplot.DotPlotMatrix)`."
   ]
  },
  {
   "cell_type": "markdown",
   "id": "d3a8aa09",
   "metadata": {},
   "source": [
    "## 1.4. Visualize the dot plot matrix\n",
    "\n",
    "### 1.4.1. Available visualization functions\n",
    "Currently, we provide two functions for visualizing these matrices: `viz_imshow()` and `viz_spy()`. Both of these are essentially wrappers for matplotlib's [`imshow()`](https://matplotlib.org/stable/api/_as_gen/matplotlib.axes.Axes.imshow.html) and [`spy()`](https://matplotlib.org/stable/api/_as_gen/matplotlib.axes.Axes.spy.html) functions; you can even provide additional keyword arguments to `viz_imshow()` and `viz_spy()` which will be passed directly to `imshow()` / `spy()`. \n",
    "\n",
    "A brief description of the differences between these functions:\n",
    "\n",
    "- `imshow()` produces visually appealing plots (cells are scaled perfectly within the plot; supports multiple colors, which helps us visualize not-binary matrices). However, it doesn't support sparse matrices. So, `viz_imshow()` converts the sparse matrix to a dense format -- this can require a lot of memory if your input sequences were long.\n",
    "\n",
    "\n",
    "- `spy()` produces plots that are a bit less pretty than `imshow()`'s (at least at first -- you can still make them look nice with some tweaking, e.g. adjusting the `markersize` parameter to scale match cells' sizes up/down), but it works with sparse matrices and is thus much more memory-efficient.\n",
    "\n",
    "So, I recommend using `viz_imshow()` for short sequences (e.g. < 500 nt each) and `viz_spy()` for longer sequences.\n",
    "\n",
    "### 1.4.2. `viz_imshow()`\n",
    "\n",
    "First, let's use `viz_imshow()` -- our sequences here are very short, so the total cost of storing a dense 16 x 16 = 256-cell matrix in memory is small."
   ]
  },
  {
   "cell_type": "code",
   "execution_count": 28,
   "id": "75193267",
   "metadata": {},
   "outputs": [
    {
     "data": {
      "text/plain": [
       "(<Figure size 432x288 with 1 Axes>,\n",
       " <AxesSubplot:xlabel='$s_1$ (18 nt) →', ylabel='$s_2$ (18 nt) →'>)"
      ]
     },
     "execution_count": 28,
     "metadata": {},
     "output_type": "execute_result"
    },
    {
     "data": {
      "image/png": "[encoded data removed]",
      "text/plain": [
       "<Figure size 432x288 with 1 Axes>"
      ]
     },
     "metadata": {},
     "output_type": "display_data"
    }
   ],
   "source": [
    "wotplot.viz_imshow(m)"
   ]
  },
  {
   "cell_type": "markdown",
   "id": "191fbb06",
   "metadata": {},
   "source": [
    "### 1.4.3. For comparison's sake: `viz_spy()`\n",
    "\n",
    "The default `markersize` used by `viz_spy()` is `0.5`. I set this as the default because it's useful for plots of very long sequences; however, it's less useful for plots of tiny sequences like this one."
   ]
  },
  {
   "cell_type": "code",
   "execution_count": 29,
   "id": "70489125",
   "metadata": {},
   "outputs": [
    {
     "data": {
      "text/plain": [
       "(<Figure size 432x288 with 1 Axes>,\n",
       " <AxesSubplot:xlabel='$s_1$ (18 nt) →', ylabel='$s_2$ (18 nt) →'>)"
      ]
     },
     "execution_count": 29,
     "metadata": {},
     "output_type": "execute_result"
    },
    {
     "data": {
      "image/png": "[encoded data removed]",
      "text/plain": [
       "<Figure size 432x288 with 1 Axes>"
      ]
     },
     "metadata": {},
     "output_type": "display_data"
    }
   ],
   "source": [
    "wotplot.viz_spy(m)"
   ]
  },
  {
   "cell_type": "markdown",
   "id": "3ea0237d",
   "metadata": {},
   "source": [
    "We can adjust the `markersize` when we call `viz_spy()`, which makes this visualization look essentially the same as what we'd get from `viz_imshow()`:"
   ]
  },
  {
   "cell_type": "code",
   "execution_count": 30,
   "id": "20c79d41",
   "metadata": {},
   "outputs": [
    {
     "data": {
      "text/plain": [
       "(<Figure size 432x288 with 1 Axes>,\n",
       " <AxesSubplot:xlabel='$s_1$ (18 nt) →', ylabel='$s_2$ (18 nt) →'>)"
      ]
     },
     "execution_count": 30,
     "metadata": {},
     "output_type": "execute_result"
    },
    {
     "data": {
      "image/png": "[encoded data removed]",
      "text/plain": [
       "<Figure size 432x288 with 1 Axes>"
      ]
     },
     "metadata": {},
     "output_type": "display_data"
    }
   ],
   "source": [
    "wotplot.viz_spy(m, markersize=13)"
   ]
  },
  {
   "cell_type": "markdown",
   "id": "ec251ecc",
   "metadata": {},
   "source": [
    "# 2. Distinguishing forward, reverse-complementary, and palindromic matches\n",
    "\n",
    "If we set `binary=False` when creating a `DotPlotMatrix` object, then wotplot will distinguish between forward, reverse-complementary, and palindromic matches. This can be useful for certain analyses; also, we can color these matches differently in the visualization!\n",
    "\n",
    "## 2.1. Using `binary=False` with the same dataset as above"
   ]
  },
  {
   "cell_type": "code",
   "execution_count": 31,
   "id": "dd5c9aa8",
   "metadata": {},
   "outputs": [],
   "source": [
    "n = wotplot.DotPlotMatrix(s1, s2, k, binary=False)"
   ]
  },
  {
   "cell_type": "markdown",
   "id": "9f3f163a",
   "metadata": {},
   "source": [
    "If we convert `n`'s matrix to a dense format, we see that now it doesn't just contain `0` and `1` values:"
   ]
  },
  {
   "cell_type": "code",
   "execution_count": 32,
   "id": "b830209a",
   "metadata": {},
   "outputs": [
    {
     "data": {
      "text/plain": [
       "array([[ 0,  0,  0,  0,  0,  0,  0,  0,  0,  0,  0,  0,  0,  0,  0,  1],\n",
       "       [ 0,  0, -1,  0,  0,  0,  0,  0,  0,  0,  0,  0,  0,  0,  1,  0],\n",
       "       [ 0,  0,  0, -1,  0,  0,  0,  0,  0,  0,  0,  0,  0,  1,  0,  0],\n",
       "       [ 0,  0,  0,  0,  0,  0,  0,  0,  0,  0,  0,  0,  1,  0,  0,  0],\n",
       "       [ 0,  0,  0,  0,  0,  0,  0,  0,  0,  0,  0,  0,  0,  0,  0,  0],\n",
       "       [ 0,  0,  0,  0,  0,  0,  0,  0,  0,  0,  0,  0,  0,  0,  0,  0],\n",
       "       [ 0,  0,  0,  0,  0,  0, -1,  0,  0,  0,  0,  0,  0,  0,  0,  0],\n",
       "       [ 0,  0,  0,  0,  0,  0,  0, -1,  0,  0,  0,  0,  0,  0,  0,  0],\n",
       "       [ 0,  0,  0,  0,  0,  0,  0,  0, -1,  0,  0,  0,  0,  0,  0,  0],\n",
       "       [ 0,  0,  0,  0,  0,  0,  0,  0,  0, -1,  0,  0,  0,  0,  0,  0],\n",
       "       [ 0,  0,  0,  0,  0,  0,  0,  0,  0,  0,  0, -1,  0,  0,  0,  0],\n",
       "       [ 0,  0,  0,  0,  0,  0,  0,  0,  0,  0,  0,  0, -1,  0,  0,  0],\n",
       "       [ 0,  0,  0,  1,  0,  0,  0,  0,  0,  0,  0,  0,  0, -1,  0,  0],\n",
       "       [ 0,  0,  1,  0,  0,  0,  0,  0,  0,  0,  0,  0,  0,  0, -1,  0],\n",
       "       [ 0,  1,  0,  0,  0,  0,  0,  0,  0,  0,  0,  0,  0,  0,  0,  0],\n",
       "       [ 1,  0,  0,  0,  0,  0,  0,  0,  0,  0,  0,  0,  0,  0,  0,  0]])"
      ]
     },
     "execution_count": 32,
     "metadata": {},
     "output_type": "execute_result"
    }
   ],
   "source": [
    "n.mat.toarray()"
   ]
  },
  {
   "cell_type": "markdown",
   "id": "aad2225c",
   "metadata": {},
   "source": [
    "In this not-binary matrix:\n",
    "\n",
    "- `1` values indicate forward matches,\n",
    "- `-1` values indicate reverse-complementary matches, and\n",
    "- `2` values indicate palindromic matches (there aren't any of those in this example).\n",
    "\n",
    "For reference, these values actually correspond to constants in wotplot's package (`wotplot.FWD`, `wotplot.REV`, and `wotplot.BOTH`, respectively; for binary matrices, `1` values correspond to `wotplot.MATCH`). If you're writing code that works with these matrices, I suggest using these constants instead of `1`, `-1`, etc.; this might improve readability a bit. (But it's not a huge deal.)\n",
    "\n",
    "Okay, now let's draw this matrix! `viz_imshow()` will automatically notice that this matrix was created using `binary=False`, and will draw it in color."
   ]
  },
  {
   "cell_type": "code",
   "execution_count": 33,
   "id": "def90ddc",
   "metadata": {},
   "outputs": [
    {
     "data": {
      "image/png": "[encoded data removed]",
      "text/plain": [
       "<Figure size 432x288 with 1 Axes>"
      ]
     },
     "metadata": {},
     "output_type": "display_data"
    }
   ],
   "source": [
    "fig, ax = wotplot.viz_imshow(n)\n",
    "# Since we include it in the README, we'l save this drawing to a file.\n",
    "# We can do this using the fig object returned by viz_imshow() (or by viz_spy()).\n",
    "fig.savefig(os.path.join(\"img\", \"small_example_dotplot.png\"), **savefig_kwargs)"
   ]
  },
  {
   "cell_type": "markdown",
   "id": "d4bfc908",
   "metadata": {},
   "source": [
    "Note that `viz_spy()` can only use one color for all match cells (by default this color is set to black), so visualizing a `binary=False` matrix with `viz_spy()` doesn't look different from visualizing the equivalent `binary=True` (default) matrix:"
   ]
  },
  {
   "cell_type": "code",
   "execution_count": 34,
   "id": "2e1c70c9",
   "metadata": {
    "scrolled": true
   },
   "outputs": [
    {
     "data": {
      "text/plain": [
       "(<Figure size 432x288 with 1 Axes>,\n",
       " <AxesSubplot:xlabel='$s_1$ (18 nt) →', ylabel='$s_2$ (18 nt) →'>)"
      ]
     },
     "execution_count": 34,
     "metadata": {},
     "output_type": "execute_result"
    },
    {
     "data": {
      "image/png": "[encoded data removed]",
      "text/plain": [
       "<Figure size 432x288 with 1 Axes>"
      ]
     },
     "metadata": {},
     "output_type": "display_data"
    }
   ],
   "source": [
    "wotplot.viz_spy(n, markersize=13)"
   ]
  },
  {
   "cell_type": "markdown",
   "id": "d3071ccf",
   "metadata": {},
   "source": [
    "## 2.2. Another dataset that includes palindromes"
   ]
  },
  {
   "cell_type": "code",
   "execution_count": 35,
   "id": "1b419201",
   "metadata": {},
   "outputs": [
    {
     "data": {
      "text/plain": [
       "(<Figure size 432x288 with 1 Axes>,\n",
       " <AxesSubplot:xlabel='$s_1$ (21 nt) →', ylabel='$s_2$ (21 nt) →'>)"
      ]
     },
     "execution_count": 35,
     "metadata": {},
     "output_type": "execute_result"
    },
    {
     "data": {
      "image/png": "[encoded data removed]",
      "text/plain": [
       "<Figure size 432x288 with 1 Axes>"
      ]
     },
     "metadata": {},
     "output_type": "display_data"
    }
   ],
   "source": [
    "p = wotplot.DotPlotMatrix(\"AGCAGAAAGAGATAAACCTGT\", \"AGCAGAAAGAGATAAACCTGT\", 2, binary=False)\n",
    "wotplot.viz_imshow(p)"
   ]
  },
  {
   "cell_type": "markdown",
   "id": "fb1d1a8d",
   "metadata": {},
   "source": [
    "## 2.3. Adjusting the colormap used\n",
    "\n",
    "We can adjust this with the `nbcmap` parameter of `viz_imshow()`, which is a `dict` mapping cell values (0, 1, -1, 2) to RGB triplet colors.\n",
    "\n",
    "Here, we can use `nbcmap` to create \"dark mode\" dot plots:"
   ]
  },
  {
   "cell_type": "code",
   "execution_count": 36,
   "id": "c6bd2bbe",
   "metadata": {},
   "outputs": [
    {
     "data": {
      "text/plain": [
       "(<Figure size 432x288 with 1 Axes>,\n",
       " <AxesSubplot:xlabel='$s_1$ (21 nt) →', ylabel='$s_2$ (21 nt) →'>)"
      ]
     },
     "execution_count": 36,
     "metadata": {},
     "output_type": "execute_result"
    },
    {
     "data": {
      "image/png": "[encoded data removed]",
      "text/plain": [
       "<Figure size 432x288 with 1 Axes>"
      ]
     },
     "metadata": {},
     "output_type": "display_data"
    }
   ],
   "source": [
    "# it's gamer time\n",
    "dark_mode_cmap = {0: [0, 0, 0], 1: [255, 255, 255], -1: [150, 150, 150], 2: [255, 0, 255]}\n",
    "wotplot.viz_imshow(p, nbcmap=dark_mode_cmap)"
   ]
  },
  {
   "cell_type": "markdown",
   "id": "39af47f4",
   "metadata": {},
   "source": [
    "# 3. Other fancy visualization options\n",
    "\n",
    "## 3.1. Tiling multiple dot plots\n",
    "\n",
    "One of the main reasons I wrote this library was so that I could create figures containing grids of many dot plots using matplotlib. wotplot makes this process fairly painless!\n",
    "\n",
    "Here's an example of creating a single figure containing two side-by-side dot plots. For our second dot plot we'll reuse the original dataset from above but, this time, set `yorder=\"TB\"` -- this will have the effect of \"flipping\" the y-axis so that the second sequence begins at the top and ends at the bottom of the plot. This is analogous to how [Gepard](https://academic.oup.com/bioinformatics/article/23/8/1026/198110)'s dot plots look."
   ]
  },
  {
   "cell_type": "code",
   "execution_count": 37,
   "id": "40a1ea34",
   "metadata": {},
   "outputs": [
    {
     "data": {
      "image/png": "[encoded data removed]",
      "text/plain": [
       "<Figure size 864x360 with 2 Axes>"
      ]
     },
     "metadata": {},
     "output_type": "display_data"
    }
   ],
   "source": [
    "# Second dot plot: same as the original, but different y-order\n",
    "m_flipped = wotplot.DotPlotMatrix(s1, s2, k, yorder=\"TB\")\n",
    "\n",
    "fig, (axLeft, axRight) = pyplot.subplots(1, 2)\n",
    "\n",
    "# Notice how we provide an argument to the ax parameters of these functions.\n",
    "# This way, we can create these Axes objects in advance (when we call\n",
    "# pyplot.subplots()).\n",
    "wotplot.viz_imshow(m, ax=axLeft)\n",
    "wotplot.viz_imshow(m_flipped, ax=axRight)\n",
    "\n",
    "axLeft.set_title('Bottom-to-top', fontsize=18)\n",
    "axRight.set_title('Top-to-bottom', fontsize=18)\n",
    "fig.set_size_inches(12, 5)"
   ]
  },
  {
   "cell_type": "markdown",
   "id": "123d9ec4",
   "metadata": {},
   "source": [
    "## 3.2. Passing arbitrary keyword arguments to `imshow()` / `spy()`\n",
    "\n",
    "These functions have a lot of options available (see the matplotlib docs for [`imshow()`](https://matplotlib.org/stable/api/_as_gen/matplotlib.axes.Axes.imshow.html) and [`spy()`](https://matplotlib.org/stable/api/_as_gen/matplotlib.axes.Axes.spy.html)), and we can make use of these options without too much effort:"
   ]
  },
  {
   "cell_type": "code",
   "execution_count": 38,
   "id": "9a6c3f79",
   "metadata": {},
   "outputs": [
    {
     "data": {
      "text/plain": [
       "(<Figure size 432x288 with 1 Axes>,\n",
       " <AxesSubplot:xlabel='$s_1$ (18 nt) →', ylabel='$s_2$ (18 nt) →'>)"
      ]
     },
     "execution_count": 38,
     "metadata": {},
     "output_type": "execute_result"
    },
    {
     "data": {
      "image/png": "[encoded data removed]",
      "text/plain": [
       "<Figure size 432x288 with 1 Axes>"
      ]
     },
     "metadata": {},
     "output_type": "display_data"
    }
   ],
   "source": [
    "# - Set cmap to \"viridis\" (by default, viz_imshow() sets cmap to \"gray_r\" for binary matrices, but we can\n",
    "#   override this here).\n",
    "# - Set aspect to \"auto\", which lets cells be non-square (their dimensions will adjust as we resize the plot).\n",
    "wotplot.viz_imshow(m, cmap=\"viridis\", aspect=\"auto\")"
   ]
  },
  {
   "cell_type": "code",
   "execution_count": 39,
   "id": "30be1fa7",
   "metadata": {},
   "outputs": [
    {
     "data": {
      "text/plain": [
       "(<Figure size 432x288 with 1 Axes>,\n",
       " <AxesSubplot:xlabel='$s_1$ (18 nt) →', ylabel='$s_2$ (18 nt) →'>)"
      ]
     },
     "execution_count": 39,
     "metadata": {},
     "output_type": "execute_result"
    },
    {
     "data": {
      "image/png": "[encoded data removed]",
      "text/plain": [
       "<Figure size 432x288 with 1 Axes>"
      ]
     },
     "metadata": {},
     "output_type": "display_data"
    }
   ],
   "source": [
    "# - Set marker to \"o\" (draw circles instead of squares for matching cells).\n",
    "# - Set alpha to 0.3 (add some transparency to the matching cells).\n",
    "wotplot.viz_spy(m, markersize=13, marker=\"o\", alpha=0.3)"
   ]
  },
  {
   "cell_type": "markdown",
   "id": "4d426aa3",
   "metadata": {},
   "source": [
    "## 3.3. Adding ticks, tick labels, and a grid\n",
    "We'll show this by reusing the above example."
   ]
  },
  {
   "cell_type": "code",
   "execution_count": 109,
   "id": "ad05eb6f",
   "metadata": {},
   "outputs": [
    {
     "data": {
      "image/png": "[encoded data removed]",
      "text/plain": [
       "<Figure size 432x288 with 1 Axes>"
      ]
     },
     "metadata": {
      "needs_background": "light"
     },
     "output_type": "display_data"
    }
   ],
   "source": [
    "# While we're adding this other explanatory stuff, let's add a title for good measure.\n",
    "fig, ax = wotplot.viz_spy(m, markersize=13, marker=\"o\", alpha=0.3, title=f\"Dot plot ($k = {m.k}$)\")\n",
    "\n",
    "### PART 1: TICKS\n",
    "# First, let's add ticks.\n",
    "#\n",
    "# Our ticks' positions will look like [-0.5, 0.5, 1.5, ..., 13.5, 14.5, 15.5]. We\n",
    "# create them in this way because the cells of the matrix occur at integer coordinates.\n",
    "# (You could draw ticks at [0, 1, 2, ...], if you'd prefer, but then the grid lines would\n",
    "# go through the middle of the dot plot's points. I think the [-0.5, 0.5, ...] way looks nicer.)\n",
    "ticks = [t - 0.5 for t in range(0, 17)]\n",
    "\n",
    "# The x-axis is simple -- just use these ticks.\n",
    "ax.set_xticks(ticks)\n",
    "\n",
    "# The y-axis is a bit more complicated. Keep in mind that, when creating \"m\" above, we left\n",
    "# the DotPlotMatrix \"yorder\" parameter at its default of \"BT\" -- so the y-axis goes from bottom\n",
    "# to top. However, matplotlib doesn't care about this -- by default, it'll order ticks from top\n",
    "# to bottom (since it considers \"row 0\" to be the topmost row in the matrix, then row 1, ...)\n",
    "# We can address this by reversing the ticks when we provide them to matplotlib.\n",
    "ax.set_yticks(ticks[::-1])\n",
    "\n",
    "### PART 2: TICK LABELS\n",
    "# Next, let's add tick labels. Adding one label for every tick is a bit excessive,\n",
    "# so let's just add labels for every other tick. (For dot plots of long sequences,\n",
    "# you'd probably want to add ticks and tick labels a lot farther apart -- e.g.\n",
    "# separated by 1 Mbp.)\n",
    "tick_labels = []\n",
    "# Even though Python uses 0-indexing, we'll use 1-indexing here to make this plot a bit easier\n",
    "# to interpret -- so we'll use range(1, 18) instead of range(0, 17).\n",
    "for i in range(1, 18):\n",
    "    if i % 2 == 1:\n",
    "        # Only add labels for odd-numbered positions.\n",
    "        tick_labels.append(f\"{i:,}\")\n",
    "    else:\n",
    "        # We still need to add something for the even-numbered positions (to match the\n",
    "        # number of ticks we added above), so we'll add an empty string for each of these ticks.\n",
    "        tick_labels.append(\"\")\n",
    "\n",
    "# Since we already reversed the ticks for the y-axis to account for how yorder=\"BT\", we can now\n",
    "# provide the tick labels for both the x- and y-axes in ascending order.\n",
    "ax.set_xticklabels(tick_labels)\n",
    "ax.set_yticklabels(tick_labels)\n",
    "\n",
    "ax.tick_params(\n",
    "    labeltop=False, labelbottom=True, labelleft=True, labelright=False,\n",
    "    top=False, bottom=True, left=True, right=False\n",
    ")\n",
    "\n",
    "### PART 3: GRID LINES\n",
    "# This part is easy :)\n",
    "# (Note that ax.grid() has a lot of options you can play around with [linestyle, color, ...])\n",
    "ax.grid()"
   ]
  },
  {
   "cell_type": "markdown",
   "id": "04bd6970",
   "metadata": {},
   "source": [
    "# 4. Creating dot plots of longer sequences\n",
    "\n",
    "As a final example, let's create a dot plot of two _E. coli_ strains' genomes. We'll use _E. coli_ K-12 [(from this assembly)](https://www.ncbi.nlm.nih.gov/datasets/genome/GCF_000005845.2/) and _E. coli_ O157:H7 [(from this assembly)](https://www.ncbi.nlm.nih.gov/datasets/genome/GCF_000008865.2/).\n",
    "\n",
    "I haven't included these FASTA files in the repository because they're both fairly large (both around ~5 MB), but -- for reference -- I downloaded them from the NCBI's website, moved them to a folder in this repository named `docs/data/`, and removed the two plasmid sequences from the O157:H7 assembly. (The K-12 assembly doesn't include any plasmid sequences; I guess this makes sense, given [the history of the K-12 strain](https://en.wikipedia.org/wiki/Escherichia_coli_in_molecular_biology#K-12)?)"
   ]
  },
  {
   "cell_type": "code",
   "execution_count": 21,
   "id": "8b38c3ef",
   "metadata": {},
   "outputs": [],
   "source": [
    "# Note that pyfaidx (https://github.com/mdshw5/pyfaidx), the library I use here to\n",
    "# load these FASTA files' sequences into memory, isn't included as a dependency of\n",
    "# wotplot; you can load your sequences however you'd like.\n",
    "import pyfaidx\n",
    "e1 = pyfaidx.Fasta(os.path.join(\"data\", \"ecoli_k12.fna\"))\n",
    "e2 = pyfaidx.Fasta(os.path.join(\"data\", \"ecoli_o157h7.fna\"))"
   ]
  },
  {
   "cell_type": "code",
   "execution_count": 22,
   "id": "3c353c78",
   "metadata": {},
   "outputs": [],
   "source": [
    "# Extract the sequences from these pyfaidx.Fasta objects. (Both only contain\n",
    "# one sequence / \"record\", hence the \"list(e1.records)[0]\" operations -- it's\n",
    "# a way of saying \"give me the name of the only sequence in this FASTA file.\")\n",
    "e1s = str(e1[list(e1.records)[0]])\n",
    "e2s = str(e2[list(e2.records)[0]])"
   ]
  },
  {
   "cell_type": "markdown",
   "id": "f93d0f94",
   "metadata": {},
   "source": [
    "#### Sidenote: how do I select the $k$-mer size when dealing with big sequences?\n",
    "I don't have a single perfect answer. In general: smaller values of $k$ will show more details, but they'll increase the number of random matches between the two sequences, which will in turn increase the density of the dot plot matrix, which will in turn increase the memory footprint of the matrix. So you should consider the length of your sequences, their expected degree of similarity, and how much memory your system has when selecting the $k$-mer size.\n",
    "\n",
    "If you're really curious, here are some vague, informal suggestions that might be a good starting point. For tiny sequences (e.g. < 100 bp), any $k$ should be ok. For small-ish sequences (e.g. 100 bp – 1 kbp), any $k > 2$ should be ok. For sequences in the range 1–100 kbp, I tend to use $k = 10$. For large sequences (e.g. > 100 kbp), I recommend using $k > 10$. (But none of this is written in stone, so please don't quote me on it...)\n",
    "\n",
    "#### Sidenote: I didn't read that sidenote and you're bad at writing documentation\n",
    "Wow, that's kind of harsh??? But don't worry, you didn't miss much. Let's create the matrix now; we'll use a $k$-mer size of $k$ = 20. We'll also set `verbose=True` in order to get detailed logging output as the matrix is constructed -- this helps reassure us that wotplot isn't frozen."
   ]
  },
  {
   "cell_type": "code",
   "execution_count": 23,
   "id": "2c43f8b3",
   "metadata": {
    "scrolled": true
   },
   "outputs": [
    {
     "name": "stdout",
     "output_type": "stream",
     "text": [
      "0.00s: validating inputs...\n",
      "0.47s: computing suffix array for s1...\n",
      "0.87s: computing suffix array for s2...\n",
      "1.41s: computing ReverseComplement(s2)...\n",
      "2.28s: computing suffix array for ReverseComplement(s2)...\n",
      "2.72s: finding forward matches between s1 and s2...\n",
      "97.00s: found 3,357,713 forward match cell(s).\n",
      "97.00s: finding matches between s1 and ReverseComplement(s2)...\n",
      "181.05s: found 3,536,693 total match cell(s).\n",
      "181.05s: density = 0.00%.\n",
      "181.05s: converting match information to COO format inputs...\n",
      "183.15s: creating sparse matrix from COO format inputs...\n",
      "184.32s: done creating the matrix.\n"
     ]
    }
   ],
   "source": [
    "em = wotplot.DotPlotMatrix(e1s, e2s, 20, verbose=True)"
   ]
  },
  {
   "cell_type": "markdown",
   "id": "8902f8f0",
   "metadata": {},
   "source": [
    "Creating the matrix took about 3 minutes and 4 seconds (on my five-year old laptop with 8 GB of RAM). All things considered, not too shabby!\n",
    "\n",
    "Now let's visualize the matrix. We pretty much have to use `viz_spy()` here -- using `viz_implot()` is not feasible, because creating a dense-format copy of this matrix would require us to have... wait, how many cells were in that matrix?"
   ]
  },
  {
   "cell_type": "code",
   "execution_count": 24,
   "id": "afd6818d",
   "metadata": {},
   "outputs": [
    {
     "data": {
      "text/plain": [
       "'25,522,292,906,847 cells.'"
      ]
     },
     "execution_count": 24,
     "metadata": {},
     "output_type": "execute_result"
    }
   ],
   "source": [
    "f\"{em.mat.shape[0] * em.mat.shape[1]:,} cells.\""
   ]
  },
  {
   "cell_type": "markdown",
   "id": "9d928ba5",
   "metadata": {},
   "source": [
    "Okay, so if we make the optimistic assumption that each cell in the matrix can be stored in a single bit (I don't think this is true), then we'd still need ~3.19 terabytes (!!!) of memory to store the matrix in dense format. That's not happening on my laptop, so we'll have to use `viz_spy()`."
   ]
  },
  {
   "cell_type": "code",
   "execution_count": 25,
   "id": "59645c8a",
   "metadata": {},
   "outputs": [
    {
     "data": {
      "text/plain": [
       "(5498559, 4641633)"
      ]
     },
     "execution_count": 25,
     "metadata": {},
     "output_type": "execute_result"
    }
   ],
   "source": [
    "em.mat.shape"
   ]
  },
  {
   "cell_type": "code",
   "execution_count": 111,
   "id": "f8bc2e3a",
   "metadata": {},
   "outputs": [
    {
     "ename": "NameError",
     "evalue": "name 'em' is not defined",
     "output_type": "error",
     "traceback": [
      "\u001b[0;31m---------------------------------------------------------------------------\u001b[0m",
      "\u001b[0;31mNameError\u001b[0m                                 Traceback (most recent call last)",
      "\u001b[0;32m<ipython-input-111-83f762a25e08>\u001b[0m in \u001b[0;36m<module>\u001b[0;34m\u001b[0m\n\u001b[1;32m      1\u001b[0m \u001b[0mfig\u001b[0m\u001b[0;34m,\u001b[0m \u001b[0max\u001b[0m \u001b[0;34m=\u001b[0m \u001b[0mpyplot\u001b[0m\u001b[0;34m.\u001b[0m\u001b[0msubplots\u001b[0m\u001b[0;34m(\u001b[0m\u001b[0;34m)\u001b[0m\u001b[0;34m\u001b[0m\u001b[0;34m\u001b[0m\u001b[0m\n\u001b[0;32m----> 2\u001b[0;31m \u001b[0mwotplot\u001b[0m\u001b[0;34m.\u001b[0m\u001b[0mviz_spy\u001b[0m\u001b[0;34m(\u001b[0m\u001b[0mem\u001b[0m\u001b[0;34m,\u001b[0m \u001b[0mmarkersize\u001b[0m\u001b[0;34m=\u001b[0m\u001b[0;36m0.01\u001b[0m\u001b[0;34m,\u001b[0m \u001b[0mtitle\u001b[0m\u001b[0;34m=\u001b[0m\u001b[0;34mf\"Comparison of two $E. coli$ genomes ($k$ = {em.k})\"\u001b[0m\u001b[0;34m,\u001b[0m \u001b[0max\u001b[0m\u001b[0;34m=\u001b[0m\u001b[0max\u001b[0m\u001b[0;34m)\u001b[0m\u001b[0;34m\u001b[0m\u001b[0;34m\u001b[0m\u001b[0m\n\u001b[0m\u001b[1;32m      3\u001b[0m \u001b[0max\u001b[0m\u001b[0;34m.\u001b[0m\u001b[0mset_xlabel\u001b[0m\u001b[0;34m(\u001b[0m\u001b[0;34mf\"$E. coli$ K-12 substr. MG1655 ({len(e1s)/1e6:.2f} Mbp) \\u2192\"\u001b[0m\u001b[0;34m)\u001b[0m\u001b[0;34m\u001b[0m\u001b[0;34m\u001b[0m\u001b[0m\n\u001b[1;32m      4\u001b[0m \u001b[0max\u001b[0m\u001b[0;34m.\u001b[0m\u001b[0mset_ylabel\u001b[0m\u001b[0;34m(\u001b[0m\u001b[0;34mf\"$E. coli$ O157:H7 str. Sakai ({len(e2s)/1e6:.2f} Mbp) \\u2192\"\u001b[0m\u001b[0;34m)\u001b[0m\u001b[0;34m\u001b[0m\u001b[0;34m\u001b[0m\u001b[0m\n\u001b[1;32m      5\u001b[0m \u001b[0mfig\u001b[0m\u001b[0;34m.\u001b[0m\u001b[0mset_size_inches\u001b[0m\u001b[0;34m(\u001b[0m\u001b[0;36m8\u001b[0m\u001b[0;34m,\u001b[0m \u001b[0;36m8\u001b[0m\u001b[0;34m)\u001b[0m\u001b[0;34m\u001b[0m\u001b[0;34m\u001b[0m\u001b[0m\n",
      "\u001b[0;31mNameError\u001b[0m: name 'em' is not defined"
     ]
    },
    {
     "data": {
      "image/png": "[encoded data removed]",
      "text/plain": [
       "<Figure size 432x288 with 1 Axes>"
      ]
     },
     "metadata": {
      "needs_background": "light"
     },
     "output_type": "display_data"
    }
   ],
   "source": [
    "fig, ax = pyplot.subplots()\n",
    "wotplot.viz_spy(em, markersize=0.01, title=f\"Comparison of two $E. coli$ genomes ($k$ = {em.k})\", ax=ax)\n",
    "ax.set_xlabel(f\"$E. coli$ K-12 substr. MG1655 ({len(e1s)/1e6:.2f} Mbp) \\u2192\")\n",
    "ax.set_ylabel(f\"$E. coli$ O157:H7 str. Sakai ({len(e2s)/1e6:.2f} Mbp) \\u2192\")\n",
    "fig.set_size_inches(8, 8)\n",
    "fig.savefig(os.path.join(\"img\", \"ecoli_example_dotplot.png\"), **savefig_kwargs)"
   ]
  },
  {
   "cell_type": "markdown",
   "id": "a66b1c8a",
   "metadata": {},
   "source": [
    "There we have it! You may want to play around with the `markersize` parameter a bit in order to see what looks best."
   ]
  }
 ],
 "metadata": {
  "kernelspec": {
   "display_name": "Python 3",
   "language": "python",
   "name": "python3"
  },
  "language_info": {
   "codemirror_mode": {
    "name": "ipython",
    "version": 3
   },
   "file_extension": ".py",
   "mimetype": "text/x-python",
   "name": "python",
   "nbconvert_exporter": "python",
   "pygments_lexer": "ipython3",
   "version": "3.6.13"
  }
 },
 "nbformat": 4,
 "nbformat_minor": 5
}
