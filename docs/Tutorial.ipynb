{
 "cells": [
  {
   "cell_type": "code",
   "execution_count": 1,
   "id": "3803d7d1",
   "metadata": {},
   "outputs": [],
   "source": [
    "import wotplot\n",
    "from matplotlib import pyplot"
   ]
  },
  {
   "cell_type": "markdown",
   "id": "62009818",
   "metadata": {},
   "source": [
    "# 1. The simple example from the README"
   ]
  },
  {
   "cell_type": "markdown",
   "id": "5afadb83",
   "metadata": {},
   "source": [
    "## 1.1. Define a small dataset"
   ]
  },
  {
   "cell_type": "code",
   "execution_count": 2,
   "id": "7ae7a74c",
   "metadata": {},
   "outputs": [],
   "source": [
    "s1 = \"AGCAGGAGATAAACCTGT\"\n",
    "s2 = \"AGCAGGTTATCTACCTGT\"\n",
    "k = 3"
   ]
  },
  {
   "cell_type": "markdown",
   "id": "5fe7b9c1",
   "metadata": {},
   "source": [
    "## 1.2. Create a dot plot matrix"
   ]
  },
  {
   "cell_type": "code",
   "execution_count": 3,
   "id": "e1b20e21",
   "metadata": {
    "scrolled": true
   },
   "outputs": [],
   "source": [
    "m = wotplot.make(s1, s2, k)"
   ]
  },
  {
   "cell_type": "markdown",
   "id": "5ede7540",
   "metadata": {},
   "source": [
    "## 1.3. Inspect the dot plot matrix"
   ]
  },
  {
   "cell_type": "code",
   "execution_count": 4,
   "id": "1a527b76",
   "metadata": {},
   "outputs": [
    {
     "data": {
      "text/plain": [
       "wotplot._matrix.DotPlotMatrix"
      ]
     },
     "execution_count": 4,
     "metadata": {},
     "output_type": "execute_result"
    }
   ],
   "source": [
    "type(m)"
   ]
  },
  {
   "cell_type": "code",
   "execution_count": 5,
   "id": "8f6c5155",
   "metadata": {},
   "outputs": [
    {
     "data": {
      "text/plain": [
       "DotPlotMatrix(mat=<16x16 sparse matrix of type '<class 'numpy.int64'>'\n",
       "\twith 18 stored elements in COOrdinate format>, s1=\"AGCAGGAGATAAACCTGT\", s2=\"AGCAGGTTATCTACCTGT\", k=3, yorder=\"BT\", binary=True)"
      ]
     },
     "execution_count": 5,
     "metadata": {},
     "output_type": "execute_result"
    }
   ],
   "source": [
    "m"
   ]
  },
  {
   "cell_type": "code",
   "execution_count": 6,
   "id": "0fc68844",
   "metadata": {},
   "outputs": [
    {
     "name": "stdout",
     "output_type": "stream",
     "text": [
      "DotPlotMatrix(k = 3, binary, bottom → top): 16x16\n"
     ]
    }
   ],
   "source": [
    "print(str(m))"
   ]
  },
  {
   "cell_type": "markdown",
   "id": "6b6915f2",
   "metadata": {},
   "source": [
    "The `DotPlotMatrix` object we just created, `m`, contains some extra information about the way it was created (e.g. the value of `k` we used). But the most interesting part of it is the actual matrix describing the dot plot! This matrix is stored in the `mat` attribute."
   ]
  },
  {
   "cell_type": "code",
   "execution_count": 7,
   "id": "08e06a06",
   "metadata": {},
   "outputs": [
    {
     "data": {
      "text/plain": [
       "<16x16 sparse matrix of type '<class 'numpy.int64'>'\n",
       "\twith 18 stored elements in COOrdinate format>"
      ]
     },
     "execution_count": 7,
     "metadata": {},
     "output_type": "execute_result"
    }
   ],
   "source": [
    "m.mat"
   ]
  },
  {
   "cell_type": "markdown",
   "id": "dc3e7eb9",
   "metadata": {},
   "source": [
    "### 1.3.1. Why is this matrix 16x16? Shouldn't it be 18x18?\n",
    "\n",
    "You might have noticed that `s1` and `s2` are 18 nucleotides long. Why, then, does `m.mat` only have 16 rows and 16 columns?\n",
    "\n",
    "The reason for this is that, in an arbitrary string $s$, the number of $k$-mers is $|s| - k + 1$. For `s1` and `s2`, $|s| - k + 1 = 18 - 3 + 1 = 16$.\n",
    "\n",
    "A way of thinking about this: the last 3-mer in `s1` is `TGT`, starting at the 16th position in `s1` (using 1-indexing). There are always going to be $k - 1$ characters left over (for `s1`, these are the final `G` and `T`) where no $k$-mers can begin."
   ]
  },
  {
   "cell_type": "markdown",
   "id": "993fe20e",
   "metadata": {},
   "source": [
    "### 1.3.2. What's the deal with sparse matrices?\n",
    "\n",
    "Most dot plot matrices are _sparse_: that is, most of their entries are zeroes. We exploit this by storing our matrices as [sparse matrices](https://en.wikipedia.org/wiki/Sparse_matrix)—these objects drastically reduce the memory requirements when our input sequences are long (more than a few thousand nucleotides).\n",
    "\n",
    "It's possible to convert our sparse matrix back to an equivalent \"dense\" matrix; this can make these matrices easier to work with, although it might require a large amount of memory if your input sequences were long. Here's an example of creating a dense copy of `m.mat`:"
   ]
  },
  {
   "cell_type": "code",
   "execution_count": 8,
   "id": "be896fb7",
   "metadata": {},
   "outputs": [
    {
     "data": {
      "text/plain": [
       "array([[0, 0, 0, 0, 0, 0, 0, 0, 0, 0, 0, 0, 0, 0, 0, 1],\n",
       "       [0, 0, 1, 0, 0, 0, 0, 0, 0, 0, 0, 0, 0, 0, 1, 0],\n",
       "       [0, 0, 0, 1, 0, 0, 0, 0, 0, 0, 0, 0, 0, 1, 0, 0],\n",
       "       [0, 0, 0, 0, 0, 0, 0, 0, 0, 0, 0, 0, 1, 0, 0, 0],\n",
       "       [0, 0, 0, 0, 0, 0, 0, 0, 0, 0, 0, 0, 0, 0, 0, 0],\n",
       "       [0, 0, 0, 0, 0, 0, 0, 0, 0, 0, 0, 0, 0, 0, 0, 0],\n",
       "       [0, 0, 0, 0, 0, 0, 1, 0, 0, 0, 0, 0, 0, 0, 0, 0],\n",
       "       [0, 0, 0, 0, 0, 0, 0, 1, 0, 0, 0, 0, 0, 0, 0, 0],\n",
       "       [0, 0, 0, 0, 0, 0, 0, 0, 1, 0, 0, 0, 0, 0, 0, 0],\n",
       "       [0, 0, 0, 0, 0, 0, 0, 0, 0, 1, 0, 0, 0, 0, 0, 0],\n",
       "       [0, 0, 0, 0, 0, 0, 0, 0, 0, 0, 0, 1, 0, 0, 0, 0],\n",
       "       [0, 0, 0, 0, 0, 0, 0, 0, 0, 0, 0, 0, 1, 0, 0, 0],\n",
       "       [0, 0, 0, 1, 0, 0, 0, 0, 0, 0, 0, 0, 0, 1, 0, 0],\n",
       "       [0, 0, 1, 0, 0, 0, 0, 0, 0, 0, 0, 0, 0, 0, 1, 0],\n",
       "       [0, 1, 0, 0, 0, 0, 0, 0, 0, 0, 0, 0, 0, 0, 0, 0],\n",
       "       [1, 0, 0, 0, 0, 0, 0, 0, 0, 0, 0, 0, 0, 0, 0, 0]])"
      ]
     },
     "execution_count": 8,
     "metadata": {},
     "output_type": "execute_result"
    }
   ],
   "source": [
    "m.mat.toarray()"
   ]
  },
  {
   "cell_type": "markdown",
   "id": "9d243cb6",
   "metadata": {},
   "source": [
    "### 1.3.3. Sidenote about the matrix type\n",
    "Depending on the version of SciPy you have installed, this matrix will have the type [`scipy.sparse.coo_matrix`](https://docs.scipy.org/doc/scipy/reference/generated/scipy.sparse.coo_matrix.html) (SciPy < 1.8) or  [`scipy.sparse.coo_array`](https://docs.scipy.org/doc/scipy/reference/generated/scipy.sparse.coo_array.html) (SciPy ≥ 1.8). There shouldn't be much of a difference, at least for our use of these objects."
   ]
  },
  {
   "cell_type": "markdown",
   "id": "0aa62098",
   "metadata": {},
   "source": [
    "## 1.4. Visualize the dot plot matrix"
   ]
  },
  {
   "cell_type": "code",
   "execution_count": 9,
   "id": "75193267",
   "metadata": {},
   "outputs": [
    {
     "data": {
      "image/png": "[encoded data removed]",
      "text/plain": [
       "<Figure size 432x288 with 1 Axes>"
      ]
     },
     "metadata": {},
     "output_type": "display_data"
    }
   ],
   "source": [
    "fig, ax = wotplot.viz_binary(m)\n",
    "# Save the visualization to a file\n",
    "fig.savefig(\"example_dotplot.png\", bbox_inches=\"tight\")"
   ]
  },
  {
   "cell_type": "markdown",
   "id": "39af47f4",
   "metadata": {},
   "source": [
    "# 2. An example of tiling multiple dot plots\n",
    "\n",
    "... and messing around with a few of matplotlib's many options.\n",
    "\n",
    "Notice how we provide an argument to the `ax` parameter of `wotplot.viz_binary()` -- this way, we can create these `Axes` objects in advance (when we call `pyplot.subplots`). By controlling the figure's layout from the start, we have a lot of control over what it'll end up looking like."
   ]
  },
  {
   "cell_type": "code",
   "execution_count": 10,
   "id": "40a1ea34",
   "metadata": {},
   "outputs": [
    {
     "data": {
      "text/plain": [
       "Text(0.5, 1.0, 'Top-to-bottom')"
      ]
     },
     "execution_count": 10,
     "metadata": {},
     "output_type": "execute_result"
    },
    {
     "data": {
      "image/png": "[encoded data removed]",
      "text/plain": [
       "<Figure size 864x360 with 2 Axes>"
      ]
     },
     "metadata": {},
     "output_type": "display_data"
    }
   ],
   "source": [
    "m_flipped = wotplot.make(s1, s2, k, yorder=\"TB\")\n",
    "\n",
    "fig, (axLeft, axRight) = pyplot.subplots(1, 2)\n",
    "fig.set_size_inches(12,5)\n",
    "\n",
    "wotplot.viz_binary(m, ax=axLeft)\n",
    "wotplot.viz_binary(m_flipped, ax=axRight)\n",
    "\n",
    "axLeft.set_title('Bottom-to-top', fontsize=18)\n",
    "axRight.set_title('Top-to-bottom', fontsize=18)"
   ]
  }
 ],
 "metadata": {
  "kernelspec": {
   "display_name": "Python 3",
   "language": "python",
   "name": "python3"
  },
  "language_info": {
   "codemirror_mode": {
    "name": "ipython",
    "version": 3
   },
   "file_extension": ".py",
   "mimetype": "text/x-python",
   "name": "python",
   "nbconvert_exporter": "python",
   "pygments_lexer": "ipython3",
   "version": "3.6.13"
  }
 },
 "nbformat": 4,
 "nbformat_minor": 5
}
